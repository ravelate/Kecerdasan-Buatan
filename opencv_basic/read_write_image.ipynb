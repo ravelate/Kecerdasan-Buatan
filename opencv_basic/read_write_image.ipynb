{
  "nbformat": 4,
  "nbformat_minor": 0,
  "metadata": {
    "colab": {
      "name": "read_write_image.ipynb",
      "provenance": [],
      "collapsed_sections": [],
      "include_colab_link": true
    },
    "kernelspec": {
      "name": "python3",
      "display_name": "Python 3"
    },
    "language_info": {
      "name": "python"
    }
  },
  "cells": [
    {
      "cell_type": "markdown",
      "metadata": {
        "id": "view-in-github",
        "colab_type": "text"
      },
      "source": [
        "<a href=\"https://colab.research.google.com/github/ravelate/Kecerdasan-Buatan/blob/main/opencv_basic/read_write_image.ipynb\" target=\"_parent\"><img src=\"https://colab.research.google.com/assets/colab-badge.svg\" alt=\"Open In Colab\"/></a>"
      ]
    },
    {
      "cell_type": "code",
      "metadata": {
        "colab": {
          "base_uri": "https://localhost:8080/"
        },
        "id": "yiWDK-jTwIPy",
        "outputId": "56942d54-e03d-4512-dfff-5212c3269fc3"
      },
      "source": [
        "!wget https://raw.githubusercontent.com/ravelate/Kecerdasan-Buatan/main/Segmented%20Leaf%20Images/Pandanus%20amaryllifolius/001.png --no-check-certificate"
      ],
      "execution_count": 4,
      "outputs": [
        {
          "output_type": "stream",
          "name": "stdout",
          "text": [
            "--2021-11-09 13:38:10--  https://raw.githubusercontent.com/ravelate/Kecerdasan-Buatan/main/Segmented%20Leaf%20Images/Pandanus%20amaryllifolius/001.png\n",
            "Resolving raw.githubusercontent.com (raw.githubusercontent.com)... 185.199.108.133, 185.199.109.133, 185.199.110.133, ...\n",
            "Connecting to raw.githubusercontent.com (raw.githubusercontent.com)|185.199.108.133|:443... connected.\n",
            "HTTP request sent, awaiting response... 200 OK\n",
            "Length: 78045 (76K) [image/png]\n",
            "Saving to: ‘001.png’\n",
            "\n",
            "001.png             100%[===================>]  76.22K  --.-KB/s    in 0.01s   \n",
            "\n",
            "2021-11-09 13:38:10 (6.42 MB/s) - ‘001.png’ saved [78045/78045]\n",
            "\n"
          ]
        }
      ]
    },
    {
      "cell_type": "code",
      "metadata": {
        "id": "oj4cMJQKwSuQ"
      },
      "source": [
        "# import the necessary packages\n",
        "from matplotlib import pyplot as plt\n",
        "import argparse\n",
        "import cv2"
      ],
      "execution_count": 5,
      "outputs": []
    },
    {
      "cell_type": "code",
      "metadata": {
        "id": "Kg-H2DOswU_D"
      },
      "source": [
        "def plt_imshow(title, image):\n",
        "\t# convert the image frame BGR to RGB color space and display it\n",
        "\timage = cv2.cvtColor(image, cv2.COLOR_BGR2RGB)\n",
        "\tplt.imshow(image)\n",
        "\tplt.title(title)\n",
        "\tplt.grid(False)\n",
        "\tplt.show()"
      ],
      "execution_count": 6,
      "outputs": []
    },
    {
      "cell_type": "code",
      "metadata": {
        "id": "9307r85YwVaD"
      },
      "source": [
        "# construct the argument parser and parse the arguments\n",
        "#ap = argparse.ArgumentParser()\n",
        "#ap.add_argument(\"-i\", \"--image\", required=True,\n",
        "#    help=\"path to input image\")\n",
        "#args = vars(ap.parse_args())\n",
        "\n",
        "# since we are using Jupyter Notebooks we can replace our argument\n",
        "# parsing code with *hard coded* arguments and values\n",
        "args = {\n",
        "\t\"image\": \"001.png\",\n",
        "}"
      ],
      "execution_count": 13,
      "outputs": []
    },
    {
      "cell_type": "code",
      "metadata": {
        "colab": {
          "base_uri": "https://localhost:8080/"
        },
        "id": "_RoByEGSwZ0Z",
        "outputId": "6df17a08-fde6-4ab3-cdb8-38e1ba8d35df"
      },
      "source": [
        "# load the image from disk via \"cv2.imread\" and then grab the spatial\n",
        "# dimensions, including width, height, and number of channels\n",
        "image = cv2.imread(args[\"image\"])\n",
        "(h, w, c) = image.shape[:3]\n",
        "\n",
        "# display the image width, height, and number of channels to our\n",
        "# terminal\n",
        "print(\"width: {} pixels\".format(image.shape[1]))\n",
        "print(\"height: {}  pixels\".format(image.shape[0]))\n",
        "print(\"channels: {}\".format(image.shape[2]))"
      ],
      "execution_count": 14,
      "outputs": [
        {
          "output_type": "stream",
          "name": "stdout",
          "text": [
            "width: 433 pixels\n",
            "height: 577  pixels\n",
            "channels: 3\n"
          ]
        }
      ]
    },
    {
      "cell_type": "code",
      "metadata": {
        "colab": {
          "base_uri": "https://localhost:8080/",
          "height": 298
        },
        "id": "hMSDV4KywcIh",
        "outputId": "aeaf3042-d3ae-452b-8aa9-1e7263fdfdec"
      },
      "source": [
        "# show the image and wait for a keypress\n",
        "plt_imshow(\"Image\", image)\n",
        "\n",
        "# save the image back to disk (OpenCV handles converting image\n",
        "# filetypes automatically)\n",
        "cv2.imwrite(\"batik_new.jpg\", image)"
      ],
      "execution_count": 15,
      "outputs": [
        {
          "output_type": "display_data",
          "data": {
            "image/png": "[encoded data removed]",
            "text/plain": [
              "<Figure size 432x288 with 1 Axes>"
            ]
          },
          "metadata": {
            "needs_background": "light"
          }
        },
        {
          "output_type": "execute_result",
          "data": {
            "text/plain": [
              "True"
            ]
          },
          "metadata": {},
          "execution_count": 15
        }
      ]
    }
  ]
}